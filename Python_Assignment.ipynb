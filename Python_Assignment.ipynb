{
  "nbformat": 4,
  "nbformat_minor": 0,
  "metadata": {
    "colab": {
      "provenance": [],
      "authorship_tag": "ABX9TyPVmnnqU4Ks457SLJ5Np4GD",
      "include_colab_link": true
    },
    "kernelspec": {
      "name": "python3",
      "display_name": "Python 3"
    },
    "language_info": {
      "name": "python"
    }
  },
  "cells": [
    {
      "cell_type": "markdown",
      "metadata": {
        "id": "view-in-github",
        "colab_type": "text"
      },
      "source": [
        "<a href=\"https://colab.research.google.com/github/Parithosh198/python-Assignment/blob/main/Python_Assignment.ipynb\" target=\"_parent\"><img src=\"https://colab.research.google.com/assets/colab-badge.svg\" alt=\"Open In Colab\"/></a>"
      ]
    },
    {
      "cell_type": "code",
      "execution_count": 3,
      "metadata": {
        "colab": {
          "base_uri": "https://localhost:8080/"
        },
        "id": "q8ahvugaNBoy",
        "outputId": "11a3fa10-08fa-4b7e-9e7c-59be3bebe752"
      },
      "outputs": [
        {
          "output_type": "stream",
          "name": "stdout",
          "text": [
            "Hello, Good Morning Parithosh!\n"
          ]
        }
      ],
      "source": [
        "# Topic 1 — Functions (def) & Lambda Functions\n",
        "# Part A — Basic Function Concepts (Single Return Values)\n",
        "# 1.\tWrite a function wish(name) that returns \"Hello, Good Morning <name>!\".\n",
        "\n",
        "def wish(n):\n",
        "    print(f\"Hello, Good Morning {n}!\")\n",
        "wish('Parithosh')"
      ]
    },
    {
      "cell_type": "code",
      "source": [
        "# 2.\tWrite a function cube(n) that returns the cube of a number (n³).\n",
        "def cube(n):\n",
        "    return n**3\n",
        "cube(3)"
      ],
      "metadata": {
        "colab": {
          "base_uri": "https://localhost:8080/"
        },
        "id": "KmkCDr3cNOXg",
        "outputId": "a02da25f-78dc-4d03-ed0c-da89e836a92d"
      },
      "execution_count": 4,
      "outputs": [
        {
          "output_type": "execute_result",
          "data": {
            "text/plain": [
              "27"
            ]
          },
          "metadata": {},
          "execution_count": 4
        }
      ]
    },
    {
      "cell_type": "code",
      "source": [
        "# 3.\tWrite a function check_even(n) that returns True if the number is even, else False.\n",
        "def check_even(n):\n",
        "    if n%2==0:\n",
        "        return True\n",
        "    else:\n",
        "        return False\n",
        "check_even(3)"
      ],
      "metadata": {
        "colab": {
          "base_uri": "https://localhost:8080/"
        },
        "id": "IiZGQ1rLNX1j",
        "outputId": "2a288def-cc35-4b80-e1c9-bcbffbf04050"
      },
      "execution_count": 5,
      "outputs": [
        {
          "output_type": "execute_result",
          "data": {
            "text/plain": [
              "False"
            ]
          },
          "metadata": {},
          "execution_count": 5
        }
      ]
    },
    {
      "cell_type": "code",
      "source": [
        "# 4.\tWrite a function greatest_of_two(a, b) that returns the larger of two numbers.\n",
        "def greatest_of_two(a,b):\n",
        "    if a>b:\n",
        "        return a\n",
        "    else:\n",
        "        return b\n",
        "greatest_of_two(10,15)"
      ],
      "metadata": {
        "colab": {
          "base_uri": "https://localhost:8080/"
        },
        "id": "1fc9_aHhNbGM",
        "outputId": "e38739bd-a9bc-439e-dab7-d2a467a62a74"
      },
      "execution_count": 7,
      "outputs": [
        {
          "output_type": "execute_result",
          "data": {
            "text/plain": [
              "15"
            ]
          },
          "metadata": {},
          "execution_count": 7
        }
      ]
    },
    {
      "cell_type": "code",
      "source": [
        "# 5.\tWrite a function count_letters(s) that returns the number of characters in a string.\n",
        "def count_letters(s):\n",
        "    return len(s)\n",
        "count_letters('Parithosh_reddy')"
      ],
      "metadata": {
        "colab": {
          "base_uri": "https://localhost:8080/"
        },
        "id": "k_uZGYtuNgdS",
        "outputId": "bfb260d7-f0b2-4629-c69b-9d5e417dc8c0"
      },
      "execution_count": 8,
      "outputs": [
        {
          "output_type": "execute_result",
          "data": {
            "text/plain": [
              "15"
            ]
          },
          "metadata": {},
          "execution_count": 8
        }
      ]
    },
    {
      "cell_type": "code",
      "source": [
        "# 6.\tWrite a function power(value, exp=2) that returns the number raised to the power exp. (Default exponent = 2)\n",
        "def power(value, exp=2):\n",
        "    return value**exp\n",
        "power(50)"
      ],
      "metadata": {
        "colab": {
          "base_uri": "https://localhost:8080/"
        },
        "id": "ogTvSI6_NwpD",
        "outputId": "79700396-45e9-421c-ac31-99457b8a6a48"
      },
      "execution_count": 9,
      "outputs": [
        {
          "output_type": "execute_result",
          "data": {
            "text/plain": [
              "2500"
            ]
          },
          "metadata": {},
          "execution_count": 9
        }
      ]
    },
    {
      "cell_type": "code",
      "source": [
        "# Part B — Returning Multiple Values\n",
        "# 7.\tWrite a function swap(a, b) that returns the two values swapped as a tuple.\n",
        "def swap(a,b):\n",
        "    return b,a\n",
        "swap(1,2)"
      ],
      "metadata": {
        "colab": {
          "base_uri": "https://localhost:8080/"
        },
        "id": "7bPnozc1N4PP",
        "outputId": "18b4ff50-7d92-4ab0-9ffa-51a3175d82df"
      },
      "execution_count": 10,
      "outputs": [
        {
          "output_type": "execute_result",
          "data": {
            "text/plain": [
              "(2, 1)"
            ]
          },
          "metadata": {},
          "execution_count": 10
        }
      ]
    },
    {
      "cell_type": "code",
      "source": [
        "# 8.\tWrite a function add_sub(a, b) that returns both sum and difference of two numbers.\n",
        "def add_sub(a,b):\n",
        "    return a+b,a-b\n",
        "add_sub(1,2)"
      ],
      "metadata": {
        "colab": {
          "base_uri": "https://localhost:8080/"
        },
        "id": "BSfJvwpTN7NG",
        "outputId": "3d179de8-c571-4798-ec92-51c35a1b66c3"
      },
      "execution_count": 11,
      "outputs": [
        {
          "output_type": "execute_result",
          "data": {
            "text/plain": [
              "(3, -1)"
            ]
          },
          "metadata": {},
          "execution_count": 11
        }
      ]
    },
    {
      "cell_type": "code",
      "source": [
        "# 9.\tWrite a function circle_stats(radius) that returns the area and circumference as a tuple.\n",
        "import math\n",
        "def circle_stats(radius):\n",
        "    return math.pi*radius**2,2*math.pi*radius\n",
        "circle_stats(2)"
      ],
      "metadata": {
        "colab": {
          "base_uri": "https://localhost:8080/"
        },
        "id": "svqJZ6GCN-A7",
        "outputId": "bc12cf87-08ed-4cdd-9930-a50a6ff0270d"
      },
      "execution_count": 12,
      "outputs": [
        {
          "output_type": "execute_result",
          "data": {
            "text/plain": [
              "(12.566370614359172, 12.566370614359172)"
            ]
          },
          "metadata": {},
          "execution_count": 12
        }
      ]
    },
    {
      "cell_type": "code",
      "source": [
        "# 10.\tWrite a function min_max_sum(nums) that returns the minimum, maximum, and sum of a list.\n",
        "def min_max_sum(nums):\n",
        "    return min(nums),max(nums),sum(nums)\n",
        "min_max_sum([1,2,3])"
      ],
      "metadata": {
        "colab": {
          "base_uri": "https://localhost:8080/"
        },
        "id": "HgrYQXRhOEm4",
        "outputId": "a0dc2e5b-f1a3-4f25-d100-3d7191284cb0"
      },
      "execution_count": 13,
      "outputs": [
        {
          "output_type": "execute_result",
          "data": {
            "text/plain": [
              "(1, 3, 6)"
            ]
          },
          "metadata": {},
          "execution_count": 13
        }
      ]
    },
    {
      "cell_type": "code",
      "source": [
        "#  Part C — Working with Strings & Formatting\n",
        "# 11.\tWrite a function concat(*parts) that joins multiple strings together with spaces.\n",
        "def concat(*parts):\n",
        "    return ' '.join(parts)\n",
        "concat('parithosh','is','a','intelligent','boy')"
      ],
      "metadata": {
        "colab": {
          "base_uri": "https://localhost:8080/",
          "height": 36
        },
        "id": "knVnOrdXOIi7",
        "outputId": "bb430677-00bb-4f7f-ea44-8df12dbd6a22"
      },
      "execution_count": 14,
      "outputs": [
        {
          "output_type": "execute_result",
          "data": {
            "text/plain": [
              "'parithosh is a intelligent boy'"
            ],
            "application/vnd.google.colaboratory.intrinsic+json": {
              "type": "string"
            }
          },
          "metadata": {},
          "execution_count": 14
        }
      ]
    },
    {
      "cell_type": "code",
      "source": [
        "# 12.\tWrite a function format_name(first, last=\"\") that returns \"Last, First\" if last name is provided, else \"First\".\n",
        "def format_name(first=\"\", last=\"\"):\n",
        "      return last + \", \" + first if last else first\n",
        "format_name(first=\"parithosh\", last='reddy')"
      ],
      "metadata": {
        "colab": {
          "base_uri": "https://localhost:8080/",
          "height": 36
        },
        "id": "8uREsZfFOXC9",
        "outputId": "e3e13f74-869d-461d-b26f-2eac25b5efc0"
      },
      "execution_count": 15,
      "outputs": [
        {
          "output_type": "execute_result",
          "data": {
            "text/plain": [
              "'reddy, parithosh'"
            ],
            "application/vnd.google.colaboratory.intrinsic+json": {
              "type": "string"
            }
          },
          "metadata": {},
          "execution_count": 15
        }
      ]
    },
    {
      "cell_type": "code",
      "source": [
        "# 13.\tWrite a function greet_user(first, last) that returns a message like \"Welcome, First Last!\".\n",
        "def greet_user(first, last):\n",
        "    return f\"Welcome, {first}, {last}!\"\n",
        "greet_user('Parithosh','reddy')"
      ],
      "metadata": {
        "colab": {
          "base_uri": "https://localhost:8080/",
          "height": 36
        },
        "id": "4hzK5cl1Oo_3",
        "outputId": "d55f6ea3-e58c-4c9a-a890-d323030ae029"
      },
      "execution_count": 17,
      "outputs": [
        {
          "output_type": "execute_result",
          "data": {
            "text/plain": [
              "'Welcome, Parithosh, reddy!'"
            ],
            "application/vnd.google.colaboratory.intrinsic+json": {
              "type": "string"
            }
          },
          "metadata": {},
          "execution_count": 17
        }
      ]
    },
    {
      "cell_type": "code",
      "source": [
        "# Part D — Lambda Functions\n",
        "# 14.\tWrite a lambda function to add two numbers.\n",
        "x = lambda a,b: a+b\n",
        "add = x(5,6)\n",
        "print(add)"
      ],
      "metadata": {
        "colab": {
          "base_uri": "https://localhost:8080/"
        },
        "id": "tdLeLEOsQHJc",
        "outputId": "190cc53f-ca53-4da9-89b1-2785ea27108f"
      },
      "execution_count": 18,
      "outputs": [
        {
          "output_type": "stream",
          "name": "stdout",
          "text": [
            "11\n"
          ]
        }
      ]
    },
    {
      "cell_type": "code",
      "source": [
        "# 15.\tWrite a lambda function mult = lambda *args: that returns the product of all arguments.\n",
        "from functools import reduce\n",
        "\n",
        "mult = lambda *args: reduce(lambda x, y: x * y, args)\n",
        "\n",
        "mult(1,2,3)"
      ],
      "metadata": {
        "colab": {
          "base_uri": "https://localhost:8080/"
        },
        "id": "y3p7gkHDQNh-",
        "outputId": "1b4649da-5197-4fcc-d39f-837d433fc740"
      },
      "execution_count": 19,
      "outputs": [
        {
          "output_type": "execute_result",
          "data": {
            "text/plain": [
              "6"
            ]
          },
          "metadata": {},
          "execution_count": 19
        }
      ]
    },
    {
      "cell_type": "code",
      "source": [
        "# 16.   Write a one-line lambda expression to flatten a list of pairs like [(a,b), (c,d)] into [a, b, c, d].\n",
        "pp = lambda x: [j for i in x for j in i]\n",
        "pp([('a', 'b'), ('c', 'd')])"
      ],
      "metadata": {
        "colab": {
          "base_uri": "https://localhost:8080/"
        },
        "id": "8nbFU2CjQRR3",
        "outputId": "7e38ff87-b831-400d-cf2c-104a16864c8c"
      },
      "execution_count": 21,
      "outputs": [
        {
          "output_type": "execute_result",
          "data": {
            "text/plain": [
              "['a', 'b', 'c', 'd']"
            ]
          },
          "metadata": {},
          "execution_count": 21
        }
      ]
    },
    {
      "cell_type": "code",
      "source": [
        "# Part E — Recursive, Higher-Order & Inner Functions\n",
        "# 17.\tWrite a recursive function factorial(n) that returns the factorial of a number.\n",
        "def factorial(n):\n",
        "    if n == 0:\n",
        "        return 1\n",
        "    else:\n",
        "        return n * factorial(n-1)\n",
        "factorial(5)"
      ],
      "metadata": {
        "colab": {
          "base_uri": "https://localhost:8080/"
        },
        "id": "nBxE-csAQXdi",
        "outputId": "d0932a72-bdc0-464a-a464-278474c46bcf"
      },
      "execution_count": 23,
      "outputs": [
        {
          "output_type": "execute_result",
          "data": {
            "text/plain": [
              "120"
            ]
          },
          "metadata": {},
          "execution_count": 23
        }
      ]
    },
    {
      "cell_type": "code",
      "source": [
        "# 18.\tWrite a function apply_twice(func, x) that applies a function twice → func(func(x)).\n",
        "def apply_twice(func, x):\n",
        "    return func(func(x))\n",
        "apply_twice(lambda x: x**2, 3)"
      ],
      "metadata": {
        "colab": {
          "base_uri": "https://localhost:8080/"
        },
        "id": "Okv-jDrtQcAh",
        "outputId": "70cc9d3a-c3e3-4566-c8ee-df1bfba72f18"
      },
      "execution_count": 24,
      "outputs": [
        {
          "output_type": "execute_result",
          "data": {
            "text/plain": [
              "81"
            ]
          },
          "metadata": {},
          "execution_count": 24
        }
      ]
    },
    {
      "cell_type": "code",
      "source": [
        "# 19.\tWrite a function inner_demo() that defines and calls an inner function inside it.\n",
        "def inner_demo():\n",
        "    def inner():\n",
        "        print(\"This is an inner function\")\n",
        "    inner()\n",
        "inner_demo()"
      ],
      "metadata": {
        "colab": {
          "base_uri": "https://localhost:8080/"
        },
        "id": "hZZmlHs5Qfhg",
        "outputId": "4d4d2457-e046-468a-8605-489f43600745"
      },
      "execution_count": 25,
      "outputs": [
        {
          "output_type": "stream",
          "name": "stdout",
          "text": [
            "This is an inner function\n"
          ]
        }
      ]
    },
    {
      "cell_type": "code",
      "source": [
        "# 20.\tWrite a function call_function(func, value) that takes another function as a parameter and applies it.\n",
        "def call_function(func, value):\n",
        "    return func(value)\n",
        "call_function(lambda x: x**2, 3)"
      ],
      "metadata": {
        "colab": {
          "base_uri": "https://localhost:8080/"
        },
        "id": "8VZJw9fUQi9Q",
        "outputId": "e79fb5ed-d09c-432a-d0f5-47a089e6cef6"
      },
      "execution_count": 26,
      "outputs": [
        {
          "output_type": "execute_result",
          "data": {
            "text/plain": [
              "9"
            ]
          },
          "metadata": {},
          "execution_count": 26
        }
      ]
    },
    {
      "cell_type": "code",
      "source": [
        "# 21.\tWrite a function square_list(nums) that defines a helper function square(x) inside it and returns a list of squares.\n",
        "def square_list(nums):\n",
        "    def square(x):\n",
        "        return x**2\n",
        "    return [square(num) for num in nums]\n",
        "square_list([1,10,25])"
      ],
      "metadata": {
        "colab": {
          "base_uri": "https://localhost:8080/"
        },
        "id": "oPiZiQIuQ4w3",
        "outputId": "1f1550e3-989d-429a-b697-4009782202a7"
      },
      "execution_count": 29,
      "outputs": [
        {
          "output_type": "execute_result",
          "data": {
            "text/plain": [
              "[1, 100, 625]"
            ]
          },
          "metadata": {},
          "execution_count": 29
        }
      ]
    },
    {
      "cell_type": "code",
      "source": [
        "# Part F — Intermediate Function Concepts\n",
        "# 22.\tWrite a function make_multiplier(m) that returns a new function which multiplies input values by m.\n",
        "def make_multiplier(m):\n",
        "    return lambda x: x * m\n",
        "multiplier = make_multiplier(3)\n",
        "multiplier(10)"
      ],
      "metadata": {
        "colab": {
          "base_uri": "https://localhost:8080/"
        },
        "id": "91QP_F3eQ7zg",
        "outputId": "d0461c2d-5414-4fca-f649-399624267663"
      },
      "execution_count": 28,
      "outputs": [
        {
          "output_type": "execute_result",
          "data": {
            "text/plain": [
              "30"
            ]
          },
          "metadata": {},
          "execution_count": 28
        }
      ]
    },
    {
      "cell_type": "code",
      "source": [
        "# 23.\tWrite a function filter_primes(nums) that filters prime numbers using a helper is_prime() function.\n",
        "def is_prime(n):\n",
        "    if n < 2:\n",
        "        return False\n",
        "    for i in range(2, n):\n",
        "        if n % i == 0:\n",
        "            return False\n",
        "    return True\n",
        "is_prime(9)"
      ],
      "metadata": {
        "colab": {
          "base_uri": "https://localhost:8080/"
        },
        "id": "MCOcElnLQ_Eg",
        "outputId": "b5d9b67b-7f1f-4b4d-b986-e092b4b08e0c"
      },
      "execution_count": 30,
      "outputs": [
        {
          "output_type": "execute_result",
          "data": {
            "text/plain": [
              "False"
            ]
          },
          "metadata": {},
          "execution_count": 30
        }
      ]
    },
    {
      "cell_type": "code",
      "source": [
        "# 24.\tWrite a function convert_to_fahrenheit(celsius_list) using map and a lambda.\n",
        "# Formula: F = C * 9/5 + 32\n",
        "def convert_to_fahrenheit(celsius_list):\n",
        "    return list(map(lambda x: x * 9/5 + 32, celsius_list))\n",
        "convert_to_fahrenheit([0, 10, 20, 30])"
      ],
      "metadata": {
        "colab": {
          "base_uri": "https://localhost:8080/"
        },
        "id": "dIiYt8RvRMSK",
        "outputId": "3f6baa65-ac70-46fe-fb8e-94f22b106fa3"
      },
      "execution_count": 31,
      "outputs": [
        {
          "output_type": "execute_result",
          "data": {
            "text/plain": [
              "[32.0, 50.0, 68.0, 86.0]"
            ]
          },
          "metadata": {},
          "execution_count": 31
        }
      ]
    },
    {
      "cell_type": "code",
      "source": [
        "# 25.\tWrite a function apply_if(func, predicate, iterable) that applies a function only to items that pass a condition.\n",
        "def apply_if(func, predicate, iterable):\n",
        "    return [func(item) for item in iterable if predicate(item)]"
      ],
      "metadata": {
        "id": "ZWOp20EDRS2n"
      },
      "execution_count": 32,
      "outputs": []
    },
    {
      "cell_type": "code",
      "source": [
        "# 27.\tWrite a function variadic_sum(*args, **kwargs) that sums all positional arguments and multiplies by a scale factor if provided.\n",
        "def variadic_sum(*args, **kwargs):\n",
        "    total = sum(args)\n",
        "    scale = kwargs.get('scale', 1)\n",
        "    return total * scale\n",
        "variadic_sum(1, 2, 3, scale=2)"
      ],
      "metadata": {
        "colab": {
          "base_uri": "https://localhost:8080/"
        },
        "id": "UsgSI0wVRVyy",
        "outputId": "ef4749c1-0f1c-498a-c982-8ad3a11e23bb"
      },
      "execution_count": 33,
      "outputs": [
        {
          "output_type": "execute_result",
          "data": {
            "text/plain": [
              "12"
            ]
          },
          "metadata": {},
          "execution_count": 33
        }
      ]
    },
    {
      "cell_type": "code",
      "source": [
        "# 28.\tWrite a function sort_by_length(strings) that sorts a list of strings by their length using a lambda as key.\n",
        "def sort_by_length(strings):\n",
        "    return sorted(strings, key=lambda x: len(x))\n",
        "sort_by_length(['apple', 'banana', 'cherrys'])"
      ],
      "metadata": {
        "colab": {
          "base_uri": "https://localhost:8080/"
        },
        "id": "aSxInZrdRjl4",
        "outputId": "4285fa87-3728-4ee7-e5e3-6d4f57f2944f"
      },
      "execution_count": 34,
      "outputs": [
        {
          "output_type": "execute_result",
          "data": {
            "text/plain": [
              "['apple', 'banana', 'cherrys']"
            ]
          },
          "metadata": {},
          "execution_count": 34
        }
      ]
    },
    {
      "cell_type": "code",
      "source": [
        "# Topic 2 — List Comprehensions\n",
        "# Part A — Basic Comprehension Practice\n",
        "# 29.   Create [1,2,3,4] → list of their squares.\n",
        "[x**2 for x in [1,2,3,4]]"
      ],
      "metadata": {
        "colab": {
          "base_uri": "https://localhost:8080/"
        },
        "id": "t7faIMmbRm6Z",
        "outputId": "cb436f3d-d9a8-4f14-b3e3-0366702c6fe3"
      },
      "execution_count": 36,
      "outputs": [
        {
          "output_type": "execute_result",
          "data": {
            "text/plain": [
              "[1, 4, 9, 16]"
            ]
          },
          "metadata": {},
          "execution_count": 36
        }
      ]
    },
    {
      "cell_type": "code",
      "source": [
        "# 30.   Create ['a','b','c'] → list of their uppercase versions.\n",
        "Z=['a','b','c']\n",
        "[x.upper() for x in Z]"
      ],
      "metadata": {
        "colab": {
          "base_uri": "https://localhost:8080/"
        },
        "id": "vI4yAg5SRsMk",
        "outputId": "7ebc5703-f924-48af-fe15-9090bbffc0b6"
      },
      "execution_count": 38,
      "outputs": [
        {
          "output_type": "execute_result",
          "data": {
            "text/plain": [
              "['A', 'B', 'C']"
            ]
          },
          "metadata": {},
          "execution_count": 38
        }
      ]
    },
    {
      "cell_type": "code",
      "source": [
        "# 31.\tMake a list of even numbers from 1 to 20.\n",
        "Z=range(1,21)\n",
        "[x for x in Z if x%2==0]"
      ],
      "metadata": {
        "colab": {
          "base_uri": "https://localhost:8080/"
        },
        "id": "OAEmsWTlR8_f",
        "outputId": "87586e0e-cc55-43cf-b05b-6374aedce28f"
      },
      "execution_count": 39,
      "outputs": [
        {
          "output_type": "execute_result",
          "data": {
            "text/plain": [
              "[2, 4, 6, 8, 10, 12, 14, 16, 18, 20]"
            ]
          },
          "metadata": {},
          "execution_count": 39
        }
      ]
    },
    {
      "cell_type": "code",
      "source": [
        "# 32.\tGiven words = ['apple', 'bee', 'cat'], create [(word, len(word)) for word in words].\n",
        "words = ['apple', 'bee', 'cat']\n",
        "[(word, len(word)) for word in words]"
      ],
      "metadata": {
        "colab": {
          "base_uri": "https://localhost:8080/"
        },
        "id": "erKVhyfeSdDI",
        "outputId": "a342e9b1-d09b-429a-dac0-da174a34e22b"
      },
      "execution_count": 40,
      "outputs": [
        {
          "output_type": "execute_result",
          "data": {
            "text/plain": [
              "[('apple', 5), ('bee', 3), ('cat', 3)]"
            ]
          },
          "metadata": {},
          "execution_count": 40
        }
      ]
    },
    {
      "cell_type": "code",
      "source": [
        "# 33.\tFlatten [[1,2], [3,4], [5]] → [1,2,3,4,5].\n",
        "x = [[1,2], [3,4], [5]]\n",
        "[j for i in x for j in i]"
      ],
      "metadata": {
        "colab": {
          "base_uri": "https://localhost:8080/"
        },
        "id": "m1DtXZnFSknb",
        "outputId": "2fbb43d7-8f86-4890-b958-98fcebdb64dd"
      },
      "execution_count": 42,
      "outputs": [
        {
          "output_type": "execute_result",
          "data": {
            "text/plain": [
              "[1, 2, 3, 4, 5]"
            ]
          },
          "metadata": {},
          "execution_count": 42
        }
      ]
    },
    {
      "cell_type": "code",
      "source": [
        "# 34.\tFrom nums = [0,1,2,3], create a list of 'even' or 'odd' strings.\n",
        "nums = [0, 1, 2, 3]\n",
        "result = [\"even\" if n % 2 == 0 else \"odd\" for n in nums]\n",
        "print(result)"
      ],
      "metadata": {
        "colab": {
          "base_uri": "https://localhost:8080/"
        },
        "id": "huuJMdU3SqYY",
        "outputId": "473b2640-7665-4193-c91d-67de38078466"
      },
      "execution_count": 43,
      "outputs": [
        {
          "output_type": "stream",
          "name": "stdout",
          "text": [
            "['even', 'odd', 'even', 'odd']\n"
          ]
        }
      ]
    },
    {
      "cell_type": "code",
      "source": [
        "# 35.\tUsing a comprehension, make a list of booleans showing if numbers in a list are prime (use helper function).\n",
        "def is_prime(n):\n",
        "    if n < 2:\n",
        "        return False\n",
        "    for i in range(2, n):\n",
        "        if n % i == 0:\n",
        "            return False\n",
        "    return True\n",
        "nums = [0, 1, 2, 3, 4, 5, 6, 7, 8, 9, 10]\n",
        "prime_flags = [is_prime(n) for n in nums]\n",
        "print(prime_flags)"
      ],
      "metadata": {
        "colab": {
          "base_uri": "https://localhost:8080/"
        },
        "id": "SVFa5RxgSz2o",
        "outputId": "8551f61d-949c-4eac-d6b8-fb9fb551eec2"
      },
      "execution_count": 44,
      "outputs": [
        {
          "output_type": "stream",
          "name": "stdout",
          "text": [
            "[False, False, True, True, False, True, False, True, False, False, False]\n"
          ]
        }
      ]
    },
    {
      "cell_type": "code",
      "source": [
        "# 36.\tFrom range(1,50), select numbers divisible by both 2 and 3.\n",
        "[i for i in range(1,51) if (i % 2 == 0 and i%3 == 0)]"
      ],
      "metadata": {
        "colab": {
          "base_uri": "https://localhost:8080/"
        },
        "id": "3bJ0L2vES6Aq",
        "outputId": "47ccd39e-c922-4741-a135-d38db99f6b48"
      },
      "execution_count": 45,
      "outputs": [
        {
          "output_type": "execute_result",
          "data": {
            "text/plain": [
              "[6, 12, 18, 24, 30, 36, 42, 48]"
            ]
          },
          "metadata": {},
          "execution_count": 45
        }
      ]
    },
    {
      "cell_type": "code",
      "source": [
        "# 37.   Create coordinate pairs (i, j) where i and j go from 0 to 2.\n",
        "coords = [(i, j) for i in range(3) for j in range(3)]\n",
        "print(coords)\n",
        "\n",
        "for row in coords:\n",
        "    print(row)"
      ],
      "metadata": {
        "colab": {
          "base_uri": "https://localhost:8080/"
        },
        "id": "55i5_DB0S9Q1",
        "outputId": "1a46602a-98d2-48cc-c825-400a5541d257"
      },
      "execution_count": 46,
      "outputs": [
        {
          "output_type": "stream",
          "name": "stdout",
          "text": [
            "[(0, 0), (0, 1), (0, 2), (1, 0), (1, 1), (1, 2), (2, 0), (2, 1), (2, 2)]\n",
            "(0, 0)\n",
            "(0, 1)\n",
            "(0, 2)\n",
            "(1, 0)\n",
            "(1, 1)\n",
            "(1, 2)\n",
            "(2, 0)\n",
            "(2, 1)\n",
            "(2, 2)\n"
          ]
        }
      ]
    },
    {
      "cell_type": "code",
      "source": [
        "# 38.\tFrom ['a b','c d e'], produce a flat list of all words.\n",
        "words = ['a b', 'c d e']\n",
        "flat_list = [j for i in words for j in i.split()]\n",
        "print(flat_list)"
      ],
      "metadata": {
        "colab": {
          "base_uri": "https://localhost:8080/"
        },
        "id": "XVJy7G17TCgU",
        "outputId": "7c13448c-3d4f-49d4-f55d-aae6c84db934"
      },
      "execution_count": 47,
      "outputs": [
        {
          "output_type": "stream",
          "name": "stdout",
          "text": [
            "['a', 'b', 'c', 'd', 'e']\n"
          ]
        }
      ]
    },
    {
      "cell_type": "code",
      "source": [
        "# Part B — Using Lists of Dictionaries\n",
        "# 39.\tGiven students = [{'name':'A','score':80}, {'name':'B','score':60}], Create a list of names of students with score ≥ 75.\n",
        "students = [{'name':'A','score':80}, {'name':'B','score':60}]\n",
        "[student['name'] for student in students if student['score'] >= 75]"
      ],
      "metadata": {
        "colab": {
          "base_uri": "https://localhost:8080/"
        },
        "id": "HP57acOZTZwV",
        "outputId": "8b09e156-f179-4900-af59-80dda805f54d"
      },
      "execution_count": 48,
      "outputs": [
        {
          "output_type": "execute_result",
          "data": {
            "text/plain": [
              "['A']"
            ]
          },
          "metadata": {},
          "execution_count": 48
        }
      ]
    },
    {
      "cell_type": "code",
      "source": [
        "# 40.\tBuild a list of dictionaries like {'n': n, 'square': n*n} for numbers 1 to 10.\n",
        "[{ 'n': n, 'square': n*n} for n in range(1, 11)]"
      ],
      "metadata": {
        "colab": {
          "base_uri": "https://localhost:8080/"
        },
        "id": "MH_oSwBUTh3N",
        "outputId": "861df508-85e7-4c48-c261-b02ce3cdce9a"
      },
      "execution_count": 49,
      "outputs": [
        {
          "output_type": "execute_result",
          "data": {
            "text/plain": [
              "[{'n': 1, 'square': 1},\n",
              " {'n': 2, 'square': 4},\n",
              " {'n': 3, 'square': 9},\n",
              " {'n': 4, 'square': 16},\n",
              " {'n': 5, 'square': 25},\n",
              " {'n': 6, 'square': 36},\n",
              " {'n': 7, 'square': 49},\n",
              " {'n': 8, 'square': 64},\n",
              " {'n': 9, 'square': 81},\n",
              " {'n': 10, 'square': 100}]"
            ]
          },
          "metadata": {},
          "execution_count": 49
        }
      ]
    },
    {
      "cell_type": "code",
      "source": [
        "# 41.\tMerge two lists element-wise into tuples, but include only pairs where both elements are truthy.\n",
        "list1 = [1, 2, 3, 4]\n",
        "list2 = ['a', 'b', 'c', 'd']\n",
        "result = [(list1[i], list2[i]) for i in range(min(len(list1), len(list2))) if list1[i] and list2[i]]\n",
        "print(result)"
      ],
      "metadata": {
        "colab": {
          "base_uri": "https://localhost:8080/"
        },
        "id": "ZQ9MwPs7Tnhf",
        "outputId": "3119e61e-1f66-437c-ea08-f1d1f97cf510"
      },
      "execution_count": 50,
      "outputs": [
        {
          "output_type": "stream",
          "name": "stdout",
          "text": [
            "[(1, 'a'), (2, 'b'), (3, 'c'), (4, 'd')]\n"
          ]
        }
      ]
    },
    {
      "cell_type": "code",
      "source": [
        "# 42.\tCreate a comprehension to transpose a matrix (swap rows ↔ columns).\n",
        "matrix = [[1, 2, 3], [4, 5, 6], [7, 8, 9]]\n",
        "transposed = [[row[i] for row in matrix] for i in range(len(matrix[0]))]\n",
        "print(transposed)"
      ],
      "metadata": {
        "colab": {
          "base_uri": "https://localhost:8080/"
        },
        "id": "PFIjRgxmTrwg",
        "outputId": "71ac2bec-2980-4dfb-cd27-7a7f4cbdbd8e"
      },
      "execution_count": 51,
      "outputs": [
        {
          "output_type": "stream",
          "name": "stdout",
          "text": [
            "[[1, 4, 7], [2, 5, 8], [3, 6, 9]]\n"
          ]
        }
      ]
    },
    {
      "cell_type": "code",
      "source": [
        "# PyPart C — Advanced Comprehensions\n",
        "# 43.\tFlatten a 3-level nested list [[[1,2],[3]],[[4]]] into a single flat list.\n",
        "nested_list = [[[1,2],[3]],[[4]]]\n",
        "\n",
        "[k for i in nested_list for j in i for k in j]"
      ],
      "metadata": {
        "colab": {
          "base_uri": "https://localhost:8080/"
        },
        "id": "GFCvtJZWT_b9",
        "outputId": "88078a12-968b-486c-8399-8f4d595d72db"
      },
      "execution_count": 52,
      "outputs": [
        {
          "output_type": "execute_result",
          "data": {
            "text/plain": [
              "[1, 2, 3, 4]"
            ]
          },
          "metadata": {},
          "execution_count": 52
        }
      ]
    },
    {
      "cell_type": "code",
      "source": [
        "# 44.\tWrite a comprehension that keeps only unique items from a list while preserving order.\n",
        "\n",
        "data = [1, 2, 2, 3, 1, 4, 3]\n",
        "unique = []\n",
        "result = [x for x in data if not (x in unique or unique.append(x))]\n",
        "print(result)"
      ],
      "metadata": {
        "colab": {
          "base_uri": "https://localhost:8080/"
        },
        "id": "sb1eEuTKUDyZ",
        "outputId": "c666bf38-a56c-4cd8-a3a9-240854020d7e"
      },
      "execution_count": 54,
      "outputs": [
        {
          "output_type": "stream",
          "name": "stdout",
          "text": [
            "[1, 2, 3, 4]\n"
          ]
        }
      ]
    },
    {
      "cell_type": "code",
      "source": [
        "# 45.\tFind all indices (positions) where a given number appears in a list.\n",
        "def find_indices(lst, target):\n",
        "    return [i for i, x in enumerate(lst) if x == target]\n",
        "find_indices([1, 2, 3, 2, 4, 2], 2)"
      ],
      "metadata": {
        "colab": {
          "base_uri": "https://localhost:8080/"
        },
        "id": "sh6SLKr7UMAG",
        "outputId": "d63961d4-2ce0-4973-aa9b-4ac8cf2b515a"
      },
      "execution_count": 55,
      "outputs": [
        {
          "output_type": "execute_result",
          "data": {
            "text/plain": [
              "[1, 3, 5]"
            ]
          },
          "metadata": {},
          "execution_count": 55
        }
      ]
    },
    {
      "cell_type": "code",
      "source": [
        "# 46.\tGenerate all palindromic numbers (as strings) between 1 and 999.\n",
        "\n",
        "def is_palindrome(num):\n",
        "    return str(num) == str(num)[::-1]\n",
        "\n",
        "palindromes = [num for num in range(1, 1000) if is_palindrome(num)]\n",
        "\n",
        "# Print all numbers in one line, separated by space\n",
        "print(*palindromes)"
      ],
      "metadata": {
        "colab": {
          "base_uri": "https://localhost:8080/"
        },
        "id": "MwBu69WdUPH8",
        "outputId": "c9a89c05-d9a1-4da4-95ab-fc6dfce6dbb1"
      },
      "execution_count": 56,
      "outputs": [
        {
          "output_type": "stream",
          "name": "stdout",
          "text": [
            "1 2 3 4 5 6 7 8 9 11 22 33 44 55 66 77 88 99 101 111 121 131 141 151 161 171 181 191 202 212 222 232 242 252 262 272 282 292 303 313 323 333 343 353 363 373 383 393 404 414 424 434 444 454 464 474 484 494 505 515 525 535 545 555 565 575 585 595 606 616 626 636 646 656 666 676 686 696 707 717 727 737 747 757 767 777 787 797 808 818 828 838 848 858 868 878 888 898 909 919 929 939 949 959 969 979 989 999\n"
          ]
        }
      ]
    },
    {
      "cell_type": "code",
      "source": [
        "# 47.\tConvert a dictionary like {'a':[1,2], 'b':[3]} into a list of (key, value) pairs.\n",
        "data = {'a': [1, 2], 'b': [3]}\n",
        "result = [(key, value) for key, value in data.items()]\n",
        "print(result)"
      ],
      "metadata": {
        "colab": {
          "base_uri": "https://localhost:8080/"
        },
        "id": "dmvGQ0oRUWSK",
        "outputId": "43c27b3e-3dce-4139-d7f2-5b5b5067f878"
      },
      "execution_count": 57,
      "outputs": [
        {
          "output_type": "stream",
          "name": "stdout",
          "text": [
            "[('a', [1, 2]), ('b', [3])]\n"
          ]
        }
      ]
    },
    {
      "cell_type": "code",
      "source": [
        "# 48.\tCreate a list of prime pairs (p, q) where both are primes under 100 and p + q is also prime.\n",
        "def is_prime(n):\n",
        "    if n < 2:\n",
        "        return False\n",
        "    for i in range(2, n):\n",
        "        if n % i == 0:\n",
        "            return False\n",
        "    return True"
      ],
      "metadata": {
        "id": "wwZPS_cJUc32"
      },
      "execution_count": 58,
      "outputs": []
    },
    {
      "cell_type": "code",
      "source": [
        "# 49.\tCreate a lower-triangular matrix (n×n) with 1s below and on the diagonal, 0s above.\n",
        "n = 4  # example size\n",
        "lower_triangular = [[1 if j <= i else 0 for j in range(n)] for i in range(n)]\n",
        "\n",
        "for row in lower_triangular:\n",
        "    print(row)"
      ],
      "metadata": {
        "colab": {
          "base_uri": "https://localhost:8080/"
        },
        "id": "vtnGby2-Ue6V",
        "outputId": "9f94b2a8-4dee-4fd6-f063-b7a03ac47d88"
      },
      "execution_count": 59,
      "outputs": [
        {
          "output_type": "stream",
          "name": "stdout",
          "text": [
            "[1, 0, 0, 0]\n",
            "[1, 1, 0, 0]\n",
            "[1, 1, 1, 0]\n",
            "[1, 1, 1, 1]\n"
          ]
        }
      ]
    },
    {
      "cell_type": "code",
      "source": [
        "# 50.\tGenerate all possible sequences of length 4 from 'abcd' with no repeated letters.\n",
        "from itertools import permutations\n",
        "\n",
        "result = [''.join(seq) for seq in permutations('abcd', 4) if len(set(seq)) == 4]\n",
        "print(result)\n",
        "len(result)"
      ],
      "metadata": {
        "colab": {
          "base_uri": "https://localhost:8080/"
        },
        "id": "znNjKpplUhA_",
        "outputId": "5f085176-cd78-490e-d4f5-dc9583c4b4aa"
      },
      "execution_count": 60,
      "outputs": [
        {
          "output_type": "stream",
          "name": "stdout",
          "text": [
            "['abcd', 'abdc', 'acbd', 'acdb', 'adbc', 'adcb', 'bacd', 'badc', 'bcad', 'bcda', 'bdac', 'bdca', 'cabd', 'cadb', 'cbad', 'cbda', 'cdab', 'cdba', 'dabc', 'dacb', 'dbac', 'dbca', 'dcab', 'dcba']\n"
          ]
        },
        {
          "output_type": "execute_result",
          "data": {
            "text/plain": [
              "24"
            ]
          },
          "metadata": {},
          "execution_count": 60
        }
      ]
    },
    {
      "cell_type": "code",
      "source": [],
      "metadata": {
        "id": "wse-IrQPU14I"
      },
      "execution_count": null,
      "outputs": []
    }
  ]
}